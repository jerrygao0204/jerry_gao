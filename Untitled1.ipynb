{
 "cells": [
  {
   "cell_type": "code",
   "execution_count": 6,
   "id": "4ed00340-ac96-4fc0-be9b-035195b6ef0a",
   "metadata": {},
   "outputs": [
    {
     "name": "stdout",
     "output_type": "stream",
     "text": [
      "2\n",
      "2.0\n"
     ]
    }
   ],
   "source": [
    "import numexpr\n",
    "def calculator(query: str) -> str:\n",
    "    \"\"\"进行基础数学计算\"\"\"\n",
    "    try:\n",
    "        result = numexpr.evaluate(query)\n",
    "        print(result)\n",
    "        return str(float(result))\n",
    "    except Exception as e:\n",
    "        return f\"计算错误: {str(e)}\"\n",
    "print(calculator('1+1'))"
   ]
  },
  {
   "cell_type": "code",
   "execution_count": 18,
   "id": "252f0162-1a35-4fb0-b90d-c533c4cc53a3",
   "metadata": {},
   "outputs": [
    {
     "ename": "TypeError",
     "evalue": "TextLoader.__init__() got an unexpected keyword argument 'metadata'",
     "output_type": "error",
     "traceback": [
      "\u001b[0;31m---------------------------------------------------------------------------\u001b[0m",
      "\u001b[0;31mTypeError\u001b[0m                                 Traceback (most recent call last)",
      "Cell \u001b[0;32mIn[18], line 14\u001b[0m\n\u001b[1;32m     11\u001b[0m \u001b[38;5;28;01mfrom\u001b[39;00m \u001b[38;5;21;01mlangchain\u001b[39;00m\u001b[38;5;21;01m.\u001b[39;00m\u001b[38;5;21;01mdocument_loaders\u001b[39;00m \u001b[38;5;28;01mimport\u001b[39;00m TextLoader\n\u001b[1;32m     13\u001b[0m \u001b[38;5;66;03m# 实例化文档加载器,并添加元数据\u001b[39;00m\n\u001b[0;32m---> 14\u001b[0m loader \u001b[38;5;241m=\u001b[39m \u001b[43mTextLoader\u001b[49m\u001b[43m(\u001b[49m\u001b[38;5;124;43m\"\u001b[39;49m\u001b[38;5;124;43m../jupyter/tests/state_of_the_union.txt\u001b[39;49m\u001b[38;5;124;43m\"\u001b[39;49m\u001b[43m,\u001b[49m\u001b[43mmetadata\u001b[49m\u001b[38;5;241;43m=\u001b[39;49m\u001b[43m{\u001b[49m\n\u001b[1;32m     15\u001b[0m \u001b[43m    \u001b[49m\u001b[38;5;124;43m'\u001b[39;49m\u001b[38;5;124;43msource\u001b[39;49m\u001b[38;5;124;43m'\u001b[39;49m\u001b[43m:\u001b[49m\u001b[43m \u001b[49m\u001b[38;5;124;43m'\u001b[39;49m\u001b[38;5;124;43muser_manual.pdf\u001b[39;49m\u001b[38;5;124;43m'\u001b[39;49m\u001b[43m,\u001b[49m\n\u001b[1;32m     16\u001b[0m \u001b[43m    \u001b[49m\u001b[38;5;124;43m'\u001b[39;49m\u001b[38;5;124;43mcategory\u001b[39;49m\u001b[38;5;124;43m'\u001b[39;49m\u001b[43m:\u001b[49m\u001b[43m \u001b[49m\u001b[38;5;124;43m'\u001b[39;49m\u001b[38;5;124;43mtechnology\u001b[39;49m\u001b[38;5;124;43m'\u001b[39;49m\u001b[43m,\u001b[49m\n\u001b[1;32m     17\u001b[0m \u001b[43m    \u001b[49m\u001b[38;5;124;43m'\u001b[39;49m\u001b[38;5;124;43mdate\u001b[39;49m\u001b[38;5;124;43m'\u001b[39;49m\u001b[43m:\u001b[49m\u001b[43m \u001b[49m\u001b[38;5;124;43m'\u001b[39;49m\u001b[38;5;124;43m2023-06-15\u001b[39;49m\u001b[38;5;124;43m'\u001b[39;49m\u001b[43m,\u001b[49m\n\u001b[1;32m     18\u001b[0m \u001b[43m    \u001b[49m\u001b[38;5;124;43m'\u001b[39;49m\u001b[38;5;124;43mauthor\u001b[39;49m\u001b[38;5;124;43m'\u001b[39;49m\u001b[43m:\u001b[49m\u001b[43m \u001b[49m\u001b[38;5;124;43m'\u001b[39;49m\u001b[38;5;124;43mAlice\u001b[39;49m\u001b[38;5;124;43m'\u001b[39;49m\n\u001b[1;32m     19\u001b[0m \u001b[43m}\u001b[49m\u001b[43m)\u001b[49m\n\u001b[1;32m     21\u001b[0m \u001b[38;5;66;03m# 加载文档\u001b[39;00m\n\u001b[1;32m     22\u001b[0m documents \u001b[38;5;241m=\u001b[39m loader\u001b[38;5;241m.\u001b[39mload()\n",
      "\u001b[0;31mTypeError\u001b[0m: TextLoader.__init__() got an unexpected keyword argument 'metadata'"
     ]
    }
   ],
   "source": [
    "# 导入OpenAI的嵌入式模型，用于将文本转换为向量表示\n",
    "from langchain_openai import OpenAIEmbeddings\n",
    "\n",
    "# 导入字符级文本分割器，用于将长文本按指定长度切分成更小的文本块\n",
    "from langchain.text_splitter import CharacterTextSplitter\n",
    "\n",
    "# 导入FAISS（Facebook AI Similarity Search）向量存储库，用于高效的相似性搜索和聚类\n",
    "from langchain.vectorstores import FAISS\n",
    "\n",
    "# 导入文本加载器，用于从文本文件中加载文档内容\n",
    "from langchain.document_loaders import TextLoader\n",
    "\n",
    "# 实例化文档加载器,并添加元数据\n",
    "loader = TextLoader(\"../jupyter/tests/state_of_the_union.txt\",metadata={\n",
    "    'source': 'user_manual.pdf',\n",
    "    'category': 'technology',\n",
    "    'date': '2023-06-15',\n",
    "    'author': 'Alice'\n",
    "})\n",
    "\n",
    "# 加载文档\n",
    "documents = loader.load()\n",
    "\n",
    "# 实例化文本分割器\n",
    "text_splitter = CharacterTextSplitter(chunk_size=1000, chunk_overlap=0)\n",
    "\n",
    "# 分割文本\n",
    "docs = text_splitter.split_documents(documents)\n",
    "\n",
    "# OpenAI Embedding 模型\n",
    "embeddings = OpenAIEmbeddings()\n",
    "\n",
    "# FAISS 向量数据库，使用 docs 的向量作为初始化存储\n",
    "db = FAISS.from_documents(docs, embeddings)\n",
    "\n",
    "# 构造提问 Query\n",
    "query = \"1+1=?\"\n",
    "\n",
    "# 在 Faiss 中进行相似度搜索，找出与 query 最相似结果\n",
    "docs = db.as_retriever(\n",
    "    search_type=\"similarity\",  # 其他选项：mmr（最大边距检索）\n",
    "    search_kwargs={\n",
    "        \"k\": 5,  # 返回文档数量\n",
    "                  }\n",
    ")\n",
    "\n",
    "# 输出 Faiss 中最相似结果\n",
    "print(docs[0].page_content)"
   ]
  },
  {
   "cell_type": "code",
   "execution_count": 9,
   "id": "5a1ac6f7-e12e-4eb5-85a6-ee10ea03d165",
   "metadata": {},
   "outputs": [
    {
     "data": {
      "text/plain": [
       "'天气查询失败: 403 Client Error: Forbidden for url: https://api.weatherapi.com/v1/current.json?key=6646dde4e4ed4148a9d131900250602&q=beijing'"
      ]
     },
     "execution_count": 9,
     "metadata": {},
     "output_type": "execute_result"
    }
   ],
   "source": [
    "import yaml\n",
    "import requests\n",
    "\n",
    "def weather(location: str) -> str:\n",
    "    \"\"\"获取指定地点的天气信息\"\"\"\n",
    "    API_KEY = \"6646dde4e4ed4148a9d131900250602\"\n",
    "    if not API_KEY:\n",
    "        return \"错误: 未配置天气API密钥\"\n",
    "        \n",
    "    try:\n",
    "        url = \"https://api.weatherapi.com/v1/current.json\"\n",
    "        params = {\n",
    "            \"key\": API_KEY,\n",
    "            \"q\": location\n",
    "        }\n",
    "        response = requests.get(\n",
    "            url, \n",
    "            params=params,\n",
    "            timeout=3\n",
    "        )\n",
    "        response.raise_for_status()\n",
    "        \n",
    "        data = response.json()\n",
    "        temp = data['current']['temp_c']\n",
    "        condition = data['current']['condition']['text']\n",
    "        \n",
    "        return f\"{location}当前温度{temp}°C, {condition}\"\n",
    "    except requests.RequestException as e:\n",
    "        return f\"天气查询失败: {str(e)}\"\n",
    "weather('beijing')"
   ]
  },
  {
   "cell_type": "code",
   "execution_count": 25,
   "id": "b7af96c9-0ba8-4d9a-93b4-0dd8fde8fc87",
   "metadata": {},
   "outputs": [
    {
     "name": "stdout",
     "output_type": "stream",
     "text": [
      "尝试加载配置文件: /home/gaozheng/openai-quickstart/gaozheng/config.yaml\n",
      "成功加载配置文件\n",
      "{'key': 'b4b8d8576a1b46b2aed135059250602', 'q': 'beijing'}\n",
      "beijing当前温度-10.0°C, Clear\n"
     ]
    }
   ],
   "source": [
    "import requests\n",
    "import yaml\n",
    "from pathlib import Path\n",
    "def load_config():\n",
    "    try:\n",
    "        config_path = Path(\"config.yaml\")\n",
    "        print(f\"尝试加载配置文件: {config_path.absolute()}\")\n",
    "        \n",
    "        if not config_path.exists():\n",
    "            raise FileNotFoundError(f\"配置文件不存在: {config_path.absolute()}\")\n",
    "            \n",
    "        with open(config_path, 'r', encoding='utf-8') as f:\n",
    "            config = yaml.safe_load(f)\n",
    "            \n",
    "        if config is None:\n",
    "            raise ValueError(\"配置文件为空或格式错误\")\n",
    "            \n",
    "        print(\"成功加载配置文件\")\n",
    "        return config\n",
    "    except Exception as e:\n",
    "        print(f\"加载配置文件时出错: {str(e)}\")\n",
    "        raise\n",
    "\n",
    "def weather(location: str) -> str:\n",
    "    \"\"\"获取指定地点的天气信息\"\"\"\n",
    "    API_KEY = config['tools']['weather'].get('api_key')\n",
    "    if not API_KEY:\n",
    "        return \"错误: 未配置天气API密钥\"\n",
    "        \n",
    "    try:\n",
    "        url = f\"{config['tools']['weather']['base_url']}/current.json\"\n",
    "        params = {\n",
    "            \"key\": API_KEY,\n",
    "            \"q\": location\n",
    "        }\n",
    "        print(params)\n",
    "        response = requests.get(\n",
    "            url, \n",
    "            params=params,\n",
    "            timeout=config['tools']['weather']['timeout']\n",
    "        )\n",
    "        \n",
    "        response.raise_for_status()\n",
    "\n",
    "        data = response.json()\n",
    "        temp = data['current']['temp_c']\n",
    "        condition = data['current']['condition']['text']\n",
    "        \n",
    "        return f\"{location}当前温度{temp}°C, {condition}\"\n",
    "    except requests.RequestException as e:\n",
    "        return f\"天气查询失败: {str(e)}\"\n",
    "\n",
    "config = load_config()\n",
    "\n",
    "# 调用示例\n",
    "print(weather('beijing'))\n"
   ]
  },
  {
   "cell_type": "code",
   "execution_count": 18,
   "id": "ba5afb1c-09d8-4392-954a-62f07eb4edc1",
   "metadata": {},
   "outputs": [
    {
     "name": "stdout",
     "output_type": "stream",
     "text": [
      "{'key': 'b4b8d8576a1b46b2aed135059250602', 'q': 'beijing'}\n",
      "{'location': {'name': 'Beijing', 'region': 'Beijing', 'country': 'China', 'lat': 39.9289, 'lon': 116.3883, 'tz_id': 'Asia/Shanghai', 'localtime_epoch': 1738850019, 'localtime': '2025-02-06 21:53'}, 'current': {'last_updated_epoch': 1738849500, 'last_updated': '2025-02-06 21:45', 'temp_c': -9.7, 'temp_f': 14.5, 'is_day': 0, 'condition': {'text': 'Clear', 'icon': '//cdn.weatherapi.com/weather/64x64/night/113.png', 'code': 1000}, 'wind_mph': 15.9, 'wind_kph': 25.6, 'wind_degree': 330, 'wind_dir': 'NNW', 'pressure_mb': 1036.0, 'pressure_in': 30.59, 'precip_mm': 0.0, 'precip_in': 0.0, 'humidity': 18, 'cloud': 0, 'feelslike_c': -18.5, 'feelslike_f': -1.2, 'windchill_c': -15.9, 'windchill_f': 3.4, 'heatindex_c': -7.7, 'heatindex_f': 18.1, 'dewpoint_c': -28.2, 'dewpoint_f': -18.7, 'vis_km': 10.0, 'vis_miles': 6.0, 'uv': 0.0, 'gust_mph': 20.3, 'gust_kph': 32.7}}\n",
      "beijing当前温度-9.7°C, Clear\n"
     ]
    }
   ],
   "source": [
    "import requests\n",
    "\n",
    "def weather(location: str) -> str:\n",
    "    \"\"\"获取指定地点的天气信息\"\"\"\n",
    "    API_KEY = \"b4b8d8576a1b46b2aed135059250602\"  # 替换为你的实际 API 密钥\n",
    "    if not API_KEY:\n",
    "        return \"错误: 未配置天气API密钥\"\n",
    "        \n",
    "    try:\n",
    "        url = \"https://api.weatherapi.com/v1/current.json\"\n",
    "        params = {\n",
    "            \"key\": API_KEY,\n",
    "            \"q\": location\n",
    "        }\n",
    "        print(params)\n",
    "        response = requests.get(\n",
    "            url, \n",
    "            params=params,\n",
    "            timeout=3\n",
    "        )\n",
    "        response.raise_for_status()\n",
    "        \n",
    "        data = response.json()\n",
    " \n",
    "        temp = data['current']['temp_c']\n",
    "        print(data)\n",
    "        condition = data['current']['condition']['text']\n",
    "        \n",
    "        return f\"{location}当前温度{temp}°C, {condition}\"\n",
    "    except requests.RequestException as e:\n",
    "        return f\"天气查询失败: {str(e)}\"\n",
    "\n",
    "# 调用示例\n",
    "print(weather('beijing'))\n"
   ]
  },
  {
   "cell_type": "code",
   "execution_count": 19,
   "id": "1972ed3e-83f9-4c75-bad7-37b1f7a88362",
   "metadata": {},
   "outputs": [
    {
     "name": "stdout",
     "output_type": "stream",
     "text": [
      "content='你好，Jerry！有什么我可以帮助你的吗？' additional_kwargs={'refusal': None} response_metadata={'token_usage': {'completion_tokens': 21, 'prompt_tokens': 170, 'total_tokens': 191, 'completion_tokens_details': None, 'prompt_tokens_details': None}, 'model_name': 'gpt-3.5-turbo-0125', 'system_fingerprint': 'fp_0165350fbb', 'finish_reason': 'stop', 'logprobs': None} id='run-b2ad8e08-b070-4e9a-b16b-e67a732f9a74-0' usage_metadata={'input_tokens': 170, 'output_tokens': 21, 'total_tokens': 191, 'input_token_details': {}, 'output_token_details': {}}\n"
     ]
    }
   ],
   "source": [
    "from langchain.schema import HumanMessage, AIMessage\n",
    "\n",
    "def simplify_messages(messages):\n",
    "    simplified = []\n",
    "    for message in messages:\n",
    "        if isinstance(message, HumanMessage) or isinstance(message, AIMessage):\n",
    "            simplified.append(f\"{type(message).__name__}(content='{message.content}')\")\n",
    "    return simplified\n",
    "\n",
    "\n",
    "# 示例使用\n",
    "trimmed_messages = [AIMessage(content='你好，Jerry！有什么我可以帮助你的吗？', additional_kwargs={'refusal': None}, response_metadata={'token_usage': {'completion_tokens': 21, 'prompt_tokens': 170, 'total_tokens': 191, 'completion_tokens_details': None, 'prompt_tokens_details': None}, 'model_name': 'gpt-3.5-turbo-0125', 'system_fingerprint': 'fp_0165350fbb', 'finish_reason': 'stop', 'logprobs': None}, id='run-b2ad8e08-b070-4e9a-b16b-e67a732f9a74-0', usage_metadata={'input_tokens': 170, 'output_tokens': 21, 'total_tokens': 191, 'input_token_details': {}, 'output_token_details': {}}), HumanMessage(content='我叫什么？', additional_kwargs={}, response_metadata={}, id='bcd361c1-49b5-413b-8e1a-5100eff53c4b')]\n",
    "\n",
    "for i in range(0, len(trimmed_messages), 2):\n",
    "    if i + 1 < len(trimmed_messages):\n",
    "        print(simplify_messages(trimmed_messages[i]))  # 用户问题\n"
   ]
  },
  {
   "cell_type": "code",
   "execution_count": 22,
   "id": "1eb7f704-dcaa-4c3e-8864-a306976a8d48",
   "metadata": {},
   "outputs": [
    {
     "name": "stdout",
     "output_type": "stream",
     "text": [
      "[]\n"
     ]
    }
   ],
   "source": [
    "from langchain.schema import HumanMessage, AIMessage\n",
    "\n",
    "def simplify_messages(messages):\n",
    "    simplified = []\n",
    "    for message in messages:\n",
    "        if isinstance(message, HumanMessage) or isinstance(message, AIMessage):\n",
    "            simplified.append(f\"{type(message).__name__}(content='{message.content}')\")\n",
    "    return simplified\n",
    "\n",
    "# 示例使用\n",
    "trimmed_messages = [AIMessage(content='你好，Jerry！有什么我可以帮助你的吗？', additional_kwargs={'refusal': None}, response_metadata={'token_usage': {'completion_tokens': 21, 'prompt_tokens': 170, 'total_tokens': 191, 'completion_tokens_details': None, 'prompt_tokens_details': None}, 'model_name': 'gpt-3.5-turbo-0125', 'system_fingerprint': 'fp_0165350fbb', 'finish_reason': 'stop', 'logprobs': None}, id='run-b2ad8e08-b070-4e9a-b16b-e67a732f9a74-0', usage_metadata={'input_tokens': 170, 'output_tokens': 21, 'total_tokens': 191, 'input_token_details': {}, 'output_token_details': {}}), HumanMessage(content='我叫什么？', additional_kwargs={}, response_metadata={}, id='bcd361c1-49b5-413b-8e1a-5100eff53c4b')]\n",
    "\n",
    "for i in range(0, len(trimmed_messages), 2):\n",
    "    if i + 1 < len(trimmed_messages):\n",
    "        print(simplify_messages(trimmed_messages[i]))  # 用户问题\n",
    "\n"
   ]
  },
  {
   "cell_type": "code",
   "execution_count": 32,
   "id": "14d00069-0ffa-4ef6-b200-5b4e0163e007",
   "metadata": {},
   "outputs": [
    {
     "name": "stdout",
     "output_type": "stream",
     "text": [
      "[\"AIMessage(content='你好，Jerry！有什么我可以帮助你的吗？')\", \"HumanMessage(content='我叫什么？')\"]\n",
      "<class 'list'>\n"
     ]
    }
   ],
   "source": [
    "from langchain.schema import HumanMessage, AIMessage\n",
    "\n",
    "def simplify_messages(messages):\n",
    "    simplified = []\n",
    "    for message in messages:\n",
    "        if isinstance(message, HumanMessage) or isinstance(message, AIMessage):\n",
    "            simplified.append(f\"{type(message).__name__}(content='{message.content}')\")\n",
    "    return simplified\n",
    "\n",
    "# 示例使用\n",
    "trimmed_messages = [AIMessage(content='你好，Jerry！有什么我可以帮助你的吗？', additional_kwargs={'refusal': None}, response_metadata={'token_usage': {'completion_tokens': 21, 'prompt_tokens': 170, 'total_tokens': 191, 'completion_tokens_details': None, 'prompt_tokens_details': None}, 'model_name': 'gpt-3.5-turbo-0125', 'system_fingerprint': 'fp_0165350fbb', 'finish_reason': 'stop', 'logprobs': None}, id='run-b2ad8e08-b070-4e9a-b16b-e67a732f9a74-0', usage_metadata={'input_tokens': 170, 'output_tokens': 21, 'total_tokens': 191, 'input_token_details': {}, 'output_token_details': {}}), HumanMessage(content='我叫什么？', additional_kwargs={}, response_metadata={}, id='bcd361c1-49b5-413b-8e1a-5100eff53c4b')]\n",
    "\n",
    "simplified_messages = simplify_messages(trimmed_messages)\n",
    "print(simplified_messages)\n",
    "print(type(simplified_messages))"
   ]
  },
  {
   "cell_type": "code",
   "execution_count": null,
   "id": "869305b8-4e9f-417b-a69b-ff97c3852b97",
   "metadata": {},
   "outputs": [],
   "source": []
  }
 ],
 "metadata": {
  "kernelspec": {
   "display_name": "Python 3 (ipykernel)",
   "language": "python",
   "name": "python3"
  },
  "language_info": {
   "codemirror_mode": {
    "name": "ipython",
    "version": 3
   },
   "file_extension": ".py",
   "mimetype": "text/x-python",
   "name": "python",
   "nbconvert_exporter": "python",
   "pygments_lexer": "ipython3",
   "version": "3.11.10"
  }
 },
 "nbformat": 4,
 "nbformat_minor": 5
}
